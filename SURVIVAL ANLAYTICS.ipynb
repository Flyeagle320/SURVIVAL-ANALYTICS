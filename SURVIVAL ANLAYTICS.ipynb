{
 "cells": [
  {
   "cell_type": "markdown",
   "id": "abf14c24",
   "metadata": {},
   "source": [
    "#######################PROBLEM 1########################################"
   ]
  },
  {
   "cell_type": "code",
   "execution_count": 1,
   "id": "9bb45d8a",
   "metadata": {},
   "outputs": [],
   "source": [
    "#LOADING DATASET\n",
    "import pandas as pd"
   ]
  },
  {
   "cell_type": "code",
   "execution_count": 2,
   "id": "6b77eb77",
   "metadata": {},
   "outputs": [],
   "source": [
    "#loading dataset#\n",
    "patient = pd.read_csv('D:\\\\DATA SCIENCE ASSIGNMENT\\\\Datasets_Survival Analytics\\\\Patient.csv')"
   ]
  },
  {
   "cell_type": "code",
   "execution_count": 4,
   "id": "dc183c82",
   "metadata": {},
   "outputs": [
    {
     "data": {
      "text/html": [
       "<div>\n",
       "<style scoped>\n",
       "    .dataframe tbody tr th:only-of-type {\n",
       "        vertical-align: middle;\n",
       "    }\n",
       "\n",
       "    .dataframe tbody tr th {\n",
       "        vertical-align: top;\n",
       "    }\n",
       "\n",
       "    .dataframe thead th {\n",
       "        text-align: right;\n",
       "    }\n",
       "</style>\n",
       "<table border=\"1\" class=\"dataframe\">\n",
       "  <thead>\n",
       "    <tr style=\"text-align: right;\">\n",
       "      <th></th>\n",
       "      <th>PatientID</th>\n",
       "      <th>Followup</th>\n",
       "      <th>Eventtype</th>\n",
       "      <th>Scenario</th>\n",
       "    </tr>\n",
       "  </thead>\n",
       "  <tbody>\n",
       "    <tr>\n",
       "      <th>0</th>\n",
       "      <td>John</td>\n",
       "      <td>1.0</td>\n",
       "      <td>1</td>\n",
       "      <td>A</td>\n",
       "    </tr>\n",
       "    <tr>\n",
       "      <th>1</th>\n",
       "      <td>Jess</td>\n",
       "      <td>2.0</td>\n",
       "      <td>1</td>\n",
       "      <td>A</td>\n",
       "    </tr>\n",
       "    <tr>\n",
       "      <th>2</th>\n",
       "      <td>Ann</td>\n",
       "      <td>3.0</td>\n",
       "      <td>0</td>\n",
       "      <td>A</td>\n",
       "    </tr>\n",
       "    <tr>\n",
       "      <th>3</th>\n",
       "      <td>Mary</td>\n",
       "      <td>4.0</td>\n",
       "      <td>0</td>\n",
       "      <td>A</td>\n",
       "    </tr>\n",
       "    <tr>\n",
       "      <th>4</th>\n",
       "      <td>Frank</td>\n",
       "      <td>5.0</td>\n",
       "      <td>1</td>\n",
       "      <td>A</td>\n",
       "    </tr>\n",
       "    <tr>\n",
       "      <th>5</th>\n",
       "      <td>Steven</td>\n",
       "      <td>6.0</td>\n",
       "      <td>1</td>\n",
       "      <td>A</td>\n",
       "    </tr>\n",
       "    <tr>\n",
       "      <th>6</th>\n",
       "      <td>Andy</td>\n",
       "      <td>6.2</td>\n",
       "      <td>1</td>\n",
       "      <td>A</td>\n",
       "    </tr>\n",
       "    <tr>\n",
       "      <th>7</th>\n",
       "      <td>Elizabeth</td>\n",
       "      <td>8.0</td>\n",
       "      <td>0</td>\n",
       "      <td>A</td>\n",
       "    </tr>\n",
       "    <tr>\n",
       "      <th>8</th>\n",
       "      <td>Joe</td>\n",
       "      <td>9.0</td>\n",
       "      <td>1</td>\n",
       "      <td>A</td>\n",
       "    </tr>\n",
       "    <tr>\n",
       "      <th>9</th>\n",
       "      <td>Kate</td>\n",
       "      <td>10.0</td>\n",
       "      <td>0</td>\n",
       "      <td>A</td>\n",
       "    </tr>\n",
       "  </tbody>\n",
       "</table>\n",
       "</div>"
      ],
      "text/plain": [
       "   PatientID  Followup  Eventtype Scenario\n",
       "0       John       1.0          1        A\n",
       "1       Jess       2.0          1        A\n",
       "2        Ann       3.0          0        A\n",
       "3       Mary       4.0          0        A\n",
       "4      Frank       5.0          1        A\n",
       "5     Steven       6.0          1        A\n",
       "6       Andy       6.2          1        A\n",
       "7  Elizabeth       8.0          0        A\n",
       "8        Joe       9.0          1        A\n",
       "9       Kate      10.0          0        A"
      ]
     },
     "execution_count": 4,
     "metadata": {},
     "output_type": "execute_result"
    }
   ],
   "source": [
    "patient.head(10)"
   ]
  },
  {
   "cell_type": "code",
   "execution_count": 6,
   "id": "58b4d487",
   "metadata": {},
   "outputs": [
    {
     "data": {
      "text/plain": [
       "(10, 4)"
      ]
     },
     "execution_count": 6,
     "metadata": {},
     "output_type": "execute_result"
    }
   ],
   "source": [
    "patient.shape"
   ]
  },
  {
   "cell_type": "code",
   "execution_count": 8,
   "id": "c28c2230",
   "metadata": {},
   "outputs": [
    {
     "data": {
      "text/html": [
       "<div>\n",
       "<style scoped>\n",
       "    .dataframe tbody tr th:only-of-type {\n",
       "        vertical-align: middle;\n",
       "    }\n",
       "\n",
       "    .dataframe tbody tr th {\n",
       "        vertical-align: top;\n",
       "    }\n",
       "\n",
       "    .dataframe thead th {\n",
       "        text-align: right;\n",
       "    }\n",
       "</style>\n",
       "<table border=\"1\" class=\"dataframe\">\n",
       "  <thead>\n",
       "    <tr style=\"text-align: right;\">\n",
       "      <th></th>\n",
       "      <th>count</th>\n",
       "      <th>mean</th>\n",
       "      <th>std</th>\n",
       "      <th>min</th>\n",
       "      <th>25%</th>\n",
       "      <th>50%</th>\n",
       "      <th>75%</th>\n",
       "      <th>max</th>\n",
       "    </tr>\n",
       "  </thead>\n",
       "  <tbody>\n",
       "    <tr>\n",
       "      <th>Followup</th>\n",
       "      <td>10.0</td>\n",
       "      <td>5.42</td>\n",
       "      <td>2.993994</td>\n",
       "      <td>1.0</td>\n",
       "      <td>3.25</td>\n",
       "      <td>5.5</td>\n",
       "      <td>7.55</td>\n",
       "      <td>10.0</td>\n",
       "    </tr>\n",
       "    <tr>\n",
       "      <th>Eventtype</th>\n",
       "      <td>10.0</td>\n",
       "      <td>0.60</td>\n",
       "      <td>0.516398</td>\n",
       "      <td>0.0</td>\n",
       "      <td>0.00</td>\n",
       "      <td>1.0</td>\n",
       "      <td>1.00</td>\n",
       "      <td>1.0</td>\n",
       "    </tr>\n",
       "  </tbody>\n",
       "</table>\n",
       "</div>"
      ],
      "text/plain": [
       "           count  mean       std  min   25%  50%   75%   max\n",
       "Followup    10.0  5.42  2.993994  1.0  3.25  5.5  7.55  10.0\n",
       "Eventtype   10.0  0.60  0.516398  0.0  0.00  1.0  1.00   1.0"
      ]
     },
     "execution_count": 8,
     "metadata": {},
     "output_type": "execute_result"
    }
   ],
   "source": [
    "patient.describe().transpose()"
   ]
  },
  {
   "cell_type": "code",
   "execution_count": 12,
   "id": "94c0ad5c",
   "metadata": {},
   "outputs": [
    {
     "data": {
      "text/plain": [
       "count    10.000000\n",
       "mean      5.420000\n",
       "std       2.993994\n",
       "min       1.000000\n",
       "25%       3.250000\n",
       "50%       5.500000\n",
       "75%       7.550000\n",
       "max      10.000000\n",
       "Name: Followup, dtype: float64"
      ]
     },
     "execution_count": 12,
     "metadata": {},
     "output_type": "execute_result"
    }
   ],
   "source": [
    "patient['Followup'].describe()"
   ]
  },
  {
   "cell_type": "code",
   "execution_count": 13,
   "id": "92963d50",
   "metadata": {},
   "outputs": [],
   "source": [
    "##followup ie time of following up with patient for further consultation##\n",
    "T= patient.Followup"
   ]
  },
  {
   "cell_type": "code",
   "execution_count": 14,
   "id": "48be989f",
   "metadata": {},
   "outputs": [],
   "source": [
    "## KaplanMeierFitter model#\n",
    "from lifelines import KaplanMeierFitter"
   ]
  },
  {
   "cell_type": "code",
   "execution_count": 16,
   "id": "4652b7ff",
   "metadata": {},
   "outputs": [],
   "source": [
    "#Building model#\n",
    "kmf = KaplanMeierFitter()"
   ]
  },
  {
   "cell_type": "code",
   "execution_count": 17,
   "id": "ac789dd1",
   "metadata": {},
   "outputs": [
    {
     "data": {
      "text/plain": [
       "<lifelines.KaplanMeierFitter:\"KM_estimate\", fitted with 10 total observations, 4 right-censored observations>"
      ]
     },
     "execution_count": 17,
     "metadata": {},
     "output_type": "execute_result"
    }
   ],
   "source": [
    "##fitting KaplanMeierFitter model on Time and death of event#\n",
    "kmf.fit(T,event_observed=patient.Eventtype)"
   ]
  },
  {
   "cell_type": "code",
   "execution_count": 18,
   "id": "99062ab1",
   "metadata": {},
   "outputs": [
    {
     "data": {
      "text/plain": [
       "<AxesSubplot:xlabel='timeline'>"
      ]
     },
     "execution_count": 18,
     "metadata": {},
     "output_type": "execute_result"
    },
    {
     "data": {
      "image/png": "[encoded data removed]",
      "text/plain": [
       "<Figure size 432x288 with 1 Axes>"
      ]
     },
     "metadata": {
      "needs_background": "light"
     },
     "output_type": "display_data"
    }
   ],
   "source": [
    "#Plotting using Time Plot#\n",
    "kmf.plot()"
   ]
  },
  {
   "cell_type": "code",
   "execution_count": 19,
   "id": "5499ba8a",
   "metadata": {},
   "outputs": [
    {
     "data": {
      "text/plain": [
       "John         1\n",
       "Jess         1\n",
       "Ann          1\n",
       "Mary         1\n",
       "Frank        1\n",
       "Steven       1\n",
       "Andy         1\n",
       "Elizabeth    1\n",
       "Joe          1\n",
       "Kate         1\n",
       "Name: PatientID, dtype: int64"
      ]
     },
     "execution_count": 19,
     "metadata": {},
     "output_type": "execute_result"
    }
   ],
   "source": [
    "patient.PatientID.value_counts()"
   ]
  },
  {
   "cell_type": "code",
   "execution_count": 21,
   "id": "e0e3b641",
   "metadata": {},
   "outputs": [
    {
     "data": {
      "text/plain": [
       "<AxesSubplot:xlabel='timeline'>"
      ]
     },
     "execution_count": 21,
     "metadata": {},
     "output_type": "execute_result"
    },
    {
     "data": {
      "image/png": "[encoded data removed]",
      "text/plain": [
       "<Figure size 432x288 with 1 Axes>"
      ]
     },
     "metadata": {
      "needs_background": "light"
     },
     "output_type": "display_data"
    }
   ],
   "source": [
    "## Apply KaplanMeierFitter on time and events#\n",
    "kmf.fit(T[patient.PatientID==['Joe','Jess','Ann','Mary','Frank','Steven','Andy', 'Elizabeth', 'Joe' ,  'Kate']], patient.Eventtype[patient.PatientID==['Joe','Jess','Ann','Mary','Frank','Steven','Andy', 'Elizabeth', 'Joe' ,  'Kate']])\n",
    "kmf.plot()"
   ]
  },
  {
   "cell_type": "markdown",
   "id": "ff622df7",
   "metadata": {},
   "source": [
    "################################Problem 2###############################################"
   ]
  },
  {
   "cell_type": "code",
   "execution_count": 1,
   "id": "1ba511ff",
   "metadata": {},
   "outputs": [],
   "source": [
    "#LOADING DATASET\n",
    "import pandas as pd"
   ]
  },
  {
   "cell_type": "code",
   "execution_count": 2,
   "id": "cad9bf87",
   "metadata": {},
   "outputs": [],
   "source": [
    "#loading dataset#\n",
    "ecg = pd.read_excel('D:\\\\DATA SCIENCE ASSIGNMENT\\\\Datasets_Survival Analytics\\\\ECG_Surv.xlsx')"
   ]
  },
  {
   "cell_type": "code",
   "execution_count": 25,
   "id": "0893509c",
   "metadata": {},
   "outputs": [
    {
     "data": {
      "text/html": [
       "<div>\n",
       "<style scoped>\n",
       "    .dataframe tbody tr th:only-of-type {\n",
       "        vertical-align: middle;\n",
       "    }\n",
       "\n",
       "    .dataframe tbody tr th {\n",
       "        vertical-align: top;\n",
       "    }\n",
       "\n",
       "    .dataframe thead th {\n",
       "        text-align: right;\n",
       "    }\n",
       "</style>\n",
       "<table border=\"1\" class=\"dataframe\">\n",
       "  <thead>\n",
       "    <tr style=\"text-align: right;\">\n",
       "      <th></th>\n",
       "      <th>survival_time_hr</th>\n",
       "      <th>alive</th>\n",
       "      <th>age</th>\n",
       "      <th>pericardialeffusion</th>\n",
       "      <th>fractionalshortening</th>\n",
       "      <th>epss</th>\n",
       "      <th>lvdd</th>\n",
       "      <th>wallmotion-score</th>\n",
       "      <th>wallmotion-index</th>\n",
       "      <th>multi_sensor</th>\n",
       "      <th>group</th>\n",
       "    </tr>\n",
       "  </thead>\n",
       "  <tbody>\n",
       "    <tr>\n",
       "      <th>0</th>\n",
       "      <td>11.0</td>\n",
       "      <td>0</td>\n",
       "      <td>71</td>\n",
       "      <td>0</td>\n",
       "      <td>0.260</td>\n",
       "      <td>9.000</td>\n",
       "      <td>4.600</td>\n",
       "      <td>14.00</td>\n",
       "      <td>1.000</td>\n",
       "      <td>1.000</td>\n",
       "      <td>1</td>\n",
       "    </tr>\n",
       "    <tr>\n",
       "      <th>1</th>\n",
       "      <td>19.0</td>\n",
       "      <td>0</td>\n",
       "      <td>72</td>\n",
       "      <td>0</td>\n",
       "      <td>0.380</td>\n",
       "      <td>6.000</td>\n",
       "      <td>4.100</td>\n",
       "      <td>14.00</td>\n",
       "      <td>1.700</td>\n",
       "      <td>0.588</td>\n",
       "      <td>1</td>\n",
       "    </tr>\n",
       "    <tr>\n",
       "      <th>2</th>\n",
       "      <td>16.0</td>\n",
       "      <td>0</td>\n",
       "      <td>55</td>\n",
       "      <td>0</td>\n",
       "      <td>0.260</td>\n",
       "      <td>4.000</td>\n",
       "      <td>3.420</td>\n",
       "      <td>14.00</td>\n",
       "      <td>1.000</td>\n",
       "      <td>1.000</td>\n",
       "      <td>1</td>\n",
       "    </tr>\n",
       "    <tr>\n",
       "      <th>3</th>\n",
       "      <td>57.0</td>\n",
       "      <td>0</td>\n",
       "      <td>60</td>\n",
       "      <td>0</td>\n",
       "      <td>0.253</td>\n",
       "      <td>12.062</td>\n",
       "      <td>4.603</td>\n",
       "      <td>16.00</td>\n",
       "      <td>1.450</td>\n",
       "      <td>0.788</td>\n",
       "      <td>1</td>\n",
       "    </tr>\n",
       "    <tr>\n",
       "      <th>4</th>\n",
       "      <td>19.0</td>\n",
       "      <td>1</td>\n",
       "      <td>57</td>\n",
       "      <td>0</td>\n",
       "      <td>0.160</td>\n",
       "      <td>22.000</td>\n",
       "      <td>5.750</td>\n",
       "      <td>18.00</td>\n",
       "      <td>2.250</td>\n",
       "      <td>0.571</td>\n",
       "      <td>1</td>\n",
       "    </tr>\n",
       "    <tr>\n",
       "      <th>5</th>\n",
       "      <td>26.0</td>\n",
       "      <td>0</td>\n",
       "      <td>68</td>\n",
       "      <td>0</td>\n",
       "      <td>0.260</td>\n",
       "      <td>5.000</td>\n",
       "      <td>4.310</td>\n",
       "      <td>12.00</td>\n",
       "      <td>1.000</td>\n",
       "      <td>0.857</td>\n",
       "      <td>1</td>\n",
       "    </tr>\n",
       "    <tr>\n",
       "      <th>6</th>\n",
       "      <td>13.0</td>\n",
       "      <td>0</td>\n",
       "      <td>62</td>\n",
       "      <td>0</td>\n",
       "      <td>0.230</td>\n",
       "      <td>31.000</td>\n",
       "      <td>5.430</td>\n",
       "      <td>22.50</td>\n",
       "      <td>1.875</td>\n",
       "      <td>0.857</td>\n",
       "      <td>1</td>\n",
       "    </tr>\n",
       "    <tr>\n",
       "      <th>7</th>\n",
       "      <td>50.0</td>\n",
       "      <td>0</td>\n",
       "      <td>60</td>\n",
       "      <td>0</td>\n",
       "      <td>0.330</td>\n",
       "      <td>8.000</td>\n",
       "      <td>5.250</td>\n",
       "      <td>14.00</td>\n",
       "      <td>1.000</td>\n",
       "      <td>1.000</td>\n",
       "      <td>1</td>\n",
       "    </tr>\n",
       "    <tr>\n",
       "      <th>8</th>\n",
       "      <td>19.0</td>\n",
       "      <td>0</td>\n",
       "      <td>46</td>\n",
       "      <td>0</td>\n",
       "      <td>0.340</td>\n",
       "      <td>0.000</td>\n",
       "      <td>5.090</td>\n",
       "      <td>16.00</td>\n",
       "      <td>1.140</td>\n",
       "      <td>1.003</td>\n",
       "      <td>1</td>\n",
       "    </tr>\n",
       "    <tr>\n",
       "      <th>9</th>\n",
       "      <td>25.0</td>\n",
       "      <td>0</td>\n",
       "      <td>54</td>\n",
       "      <td>0</td>\n",
       "      <td>0.140</td>\n",
       "      <td>13.000</td>\n",
       "      <td>4.490</td>\n",
       "      <td>15.50</td>\n",
       "      <td>1.190</td>\n",
       "      <td>0.930</td>\n",
       "      <td>1</td>\n",
       "    </tr>\n",
       "    <tr>\n",
       "      <th>10</th>\n",
       "      <td>10.0</td>\n",
       "      <td>1</td>\n",
       "      <td>77</td>\n",
       "      <td>0</td>\n",
       "      <td>0.130</td>\n",
       "      <td>16.000</td>\n",
       "      <td>4.230</td>\n",
       "      <td>18.00</td>\n",
       "      <td>1.800</td>\n",
       "      <td>0.714</td>\n",
       "      <td>1</td>\n",
       "    </tr>\n",
       "    <tr>\n",
       "      <th>11</th>\n",
       "      <td>52.0</td>\n",
       "      <td>0</td>\n",
       "      <td>62</td>\n",
       "      <td>1</td>\n",
       "      <td>0.450</td>\n",
       "      <td>9.000</td>\n",
       "      <td>3.600</td>\n",
       "      <td>16.00</td>\n",
       "      <td>1.140</td>\n",
       "      <td>1.003</td>\n",
       "      <td>1</td>\n",
       "    </tr>\n",
       "    <tr>\n",
       "      <th>12</th>\n",
       "      <td>52.0</td>\n",
       "      <td>0</td>\n",
       "      <td>73</td>\n",
       "      <td>0</td>\n",
       "      <td>0.330</td>\n",
       "      <td>6.000</td>\n",
       "      <td>4.000</td>\n",
       "      <td>14.00</td>\n",
       "      <td>1.000</td>\n",
       "      <td>1.000</td>\n",
       "      <td>1</td>\n",
       "    </tr>\n",
       "    <tr>\n",
       "      <th>13</th>\n",
       "      <td>44.0</td>\n",
       "      <td>0</td>\n",
       "      <td>60</td>\n",
       "      <td>0</td>\n",
       "      <td>0.150</td>\n",
       "      <td>10.000</td>\n",
       "      <td>3.730</td>\n",
       "      <td>14.00</td>\n",
       "      <td>1.000</td>\n",
       "      <td>1.000</td>\n",
       "      <td>1</td>\n",
       "    </tr>\n",
       "    <tr>\n",
       "      <th>14</th>\n",
       "      <td>0.5</td>\n",
       "      <td>1</td>\n",
       "      <td>62</td>\n",
       "      <td>0</td>\n",
       "      <td>0.120</td>\n",
       "      <td>23.000</td>\n",
       "      <td>5.800</td>\n",
       "      <td>11.67</td>\n",
       "      <td>2.330</td>\n",
       "      <td>0.358</td>\n",
       "      <td>1</td>\n",
       "    </tr>\n",
       "    <tr>\n",
       "      <th>15</th>\n",
       "      <td>24.0</td>\n",
       "      <td>0</td>\n",
       "      <td>55</td>\n",
       "      <td>1</td>\n",
       "      <td>0.250</td>\n",
       "      <td>12.063</td>\n",
       "      <td>4.290</td>\n",
       "      <td>14.00</td>\n",
       "      <td>1.000</td>\n",
       "      <td>1.000</td>\n",
       "      <td>1</td>\n",
       "    </tr>\n",
       "    <tr>\n",
       "      <th>16</th>\n",
       "      <td>0.5</td>\n",
       "      <td>1</td>\n",
       "      <td>69</td>\n",
       "      <td>1</td>\n",
       "      <td>0.260</td>\n",
       "      <td>11.000</td>\n",
       "      <td>4.650</td>\n",
       "      <td>18.00</td>\n",
       "      <td>1.640</td>\n",
       "      <td>0.784</td>\n",
       "      <td>1</td>\n",
       "    </tr>\n",
       "    <tr>\n",
       "      <th>17</th>\n",
       "      <td>0.5</td>\n",
       "      <td>1</td>\n",
       "      <td>70</td>\n",
       "      <td>1</td>\n",
       "      <td>0.070</td>\n",
       "      <td>20.000</td>\n",
       "      <td>5.200</td>\n",
       "      <td>24.00</td>\n",
       "      <td>2.000</td>\n",
       "      <td>0.857</td>\n",
       "      <td>1</td>\n",
       "    </tr>\n",
       "    <tr>\n",
       "      <th>18</th>\n",
       "      <td>22.0</td>\n",
       "      <td>1</td>\n",
       "      <td>66</td>\n",
       "      <td>0</td>\n",
       "      <td>0.090</td>\n",
       "      <td>17.000</td>\n",
       "      <td>5.819</td>\n",
       "      <td>8.00</td>\n",
       "      <td>1.333</td>\n",
       "      <td>0.429</td>\n",
       "      <td>1</td>\n",
       "    </tr>\n",
       "    <tr>\n",
       "      <th>19</th>\n",
       "      <td>1.0</td>\n",
       "      <td>1</td>\n",
       "      <td>66</td>\n",
       "      <td>1</td>\n",
       "      <td>0.220</td>\n",
       "      <td>15.000</td>\n",
       "      <td>5.400</td>\n",
       "      <td>27.00</td>\n",
       "      <td>2.250</td>\n",
       "      <td>0.857</td>\n",
       "      <td>1</td>\n",
       "    </tr>\n",
       "  </tbody>\n",
       "</table>\n",
       "</div>"
      ],
      "text/plain": [
       "    survival_time_hr  alive  age  pericardialeffusion  fractionalshortening  \\\n",
       "0               11.0      0   71                    0                 0.260   \n",
       "1               19.0      0   72                    0                 0.380   \n",
       "2               16.0      0   55                    0                 0.260   \n",
       "3               57.0      0   60                    0                 0.253   \n",
       "4               19.0      1   57                    0                 0.160   \n",
       "5               26.0      0   68                    0                 0.260   \n",
       "6               13.0      0   62                    0                 0.230   \n",
       "7               50.0      0   60                    0                 0.330   \n",
       "8               19.0      0   46                    0                 0.340   \n",
       "9               25.0      0   54                    0                 0.140   \n",
       "10              10.0      1   77                    0                 0.130   \n",
       "11              52.0      0   62                    1                 0.450   \n",
       "12              52.0      0   73                    0                 0.330   \n",
       "13              44.0      0   60                    0                 0.150   \n",
       "14               0.5      1   62                    0                 0.120   \n",
       "15              24.0      0   55                    1                 0.250   \n",
       "16               0.5      1   69                    1                 0.260   \n",
       "17               0.5      1   70                    1                 0.070   \n",
       "18              22.0      1   66                    0                 0.090   \n",
       "19               1.0      1   66                    1                 0.220   \n",
       "\n",
       "      epss   lvdd  wallmotion-score  wallmotion-index  multi_sensor  group  \n",
       "0    9.000  4.600             14.00             1.000         1.000      1  \n",
       "1    6.000  4.100             14.00             1.700         0.588      1  \n",
       "2    4.000  3.420             14.00             1.000         1.000      1  \n",
       "3   12.062  4.603             16.00             1.450         0.788      1  \n",
       "4   22.000  5.750             18.00             2.250         0.571      1  \n",
       "5    5.000  4.310             12.00             1.000         0.857      1  \n",
       "6   31.000  5.430             22.50             1.875         0.857      1  \n",
       "7    8.000  5.250             14.00             1.000         1.000      1  \n",
       "8    0.000  5.090             16.00             1.140         1.003      1  \n",
       "9   13.000  4.490             15.50             1.190         0.930      1  \n",
       "10  16.000  4.230             18.00             1.800         0.714      1  \n",
       "11   9.000  3.600             16.00             1.140         1.003      1  \n",
       "12   6.000  4.000             14.00             1.000         1.000      1  \n",
       "13  10.000  3.730             14.00             1.000         1.000      1  \n",
       "14  23.000  5.800             11.67             2.330         0.358      1  \n",
       "15  12.063  4.290             14.00             1.000         1.000      1  \n",
       "16  11.000  4.650             18.00             1.640         0.784      1  \n",
       "17  20.000  5.200             24.00             2.000         0.857      1  \n",
       "18  17.000  5.819              8.00             1.333         0.429      1  \n",
       "19  15.000  5.400             27.00             2.250         0.857      1  "
      ]
     },
     "execution_count": 25,
     "metadata": {},
     "output_type": "execute_result"
    }
   ],
   "source": [
    "ecg.head(20)"
   ]
  },
  {
   "cell_type": "code",
   "execution_count": 4,
   "id": "6ec89255",
   "metadata": {},
   "outputs": [
    {
     "data": {
      "text/plain": [
       "Index(['survival_time_hr', 'alive', 'age', 'pericardialeffusion',\n",
       "       'fractionalshortening', 'epss', 'lvdd', 'wallmotion-score',\n",
       "       'wallmotion-index', 'multi_sensor', 'name', 'group'],\n",
       "      dtype='object')"
      ]
     },
     "execution_count": 4,
     "metadata": {},
     "output_type": "execute_result"
    }
   ],
   "source": [
    "ecg.columns"
   ]
  },
  {
   "cell_type": "code",
   "execution_count": 5,
   "id": "33a5a4fc",
   "metadata": {},
   "outputs": [
    {
     "data": {
      "text/plain": [
       "(133, 12)"
      ]
     },
     "execution_count": 5,
     "metadata": {},
     "output_type": "execute_result"
    }
   ],
   "source": [
    "ecg.shape"
   ]
  },
  {
   "cell_type": "code",
   "execution_count": 6,
   "id": "55959f17",
   "metadata": {},
   "outputs": [
    {
     "data": {
      "text/html": [
       "<div>\n",
       "<style scoped>\n",
       "    .dataframe tbody tr th:only-of-type {\n",
       "        vertical-align: middle;\n",
       "    }\n",
       "\n",
       "    .dataframe tbody tr th {\n",
       "        vertical-align: top;\n",
       "    }\n",
       "\n",
       "    .dataframe thead th {\n",
       "        text-align: right;\n",
       "    }\n",
       "</style>\n",
       "<table border=\"1\" class=\"dataframe\">\n",
       "  <thead>\n",
       "    <tr style=\"text-align: right;\">\n",
       "      <th></th>\n",
       "      <th>survival_time_hr</th>\n",
       "      <th>alive</th>\n",
       "      <th>age</th>\n",
       "      <th>pericardialeffusion</th>\n",
       "      <th>fractionalshortening</th>\n",
       "      <th>epss</th>\n",
       "      <th>lvdd</th>\n",
       "      <th>wallmotion-score</th>\n",
       "      <th>wallmotion-index</th>\n",
       "      <th>multi_sensor</th>\n",
       "      <th>group</th>\n",
       "    </tr>\n",
       "  </thead>\n",
       "  <tbody>\n",
       "    <tr>\n",
       "      <th>count</th>\n",
       "      <td>133.000000</td>\n",
       "      <td>133.000000</td>\n",
       "      <td>133.000000</td>\n",
       "      <td>133.000000</td>\n",
       "      <td>133.000000</td>\n",
       "      <td>117.000000</td>\n",
       "      <td>121.000000</td>\n",
       "      <td>128.000000</td>\n",
       "      <td>130.00000</td>\n",
       "      <td>129.000000</td>\n",
       "      <td>133.000000</td>\n",
       "    </tr>\n",
       "    <tr>\n",
       "      <th>mean</th>\n",
       "      <td>21.795338</td>\n",
       "      <td>0.383459</td>\n",
       "      <td>62.413534</td>\n",
       "      <td>0.187970</td>\n",
       "      <td>0.228534</td>\n",
       "      <td>12.164769</td>\n",
       "      <td>4.763157</td>\n",
       "      <td>14.438125</td>\n",
       "      <td>1.37800</td>\n",
       "      <td>0.786202</td>\n",
       "      <td>1.984962</td>\n",
       "    </tr>\n",
       "    <tr>\n",
       "      <th>std</th>\n",
       "      <td>15.885313</td>\n",
       "      <td>0.488067</td>\n",
       "      <td>9.335601</td>\n",
       "      <td>0.392165</td>\n",
       "      <td>0.135864</td>\n",
       "      <td>7.370159</td>\n",
       "      <td>0.810013</td>\n",
       "      <td>5.018566</td>\n",
       "      <td>0.45185</td>\n",
       "      <td>0.225661</td>\n",
       "      <td>0.590133</td>\n",
       "    </tr>\n",
       "    <tr>\n",
       "      <th>min</th>\n",
       "      <td>0.030000</td>\n",
       "      <td>0.000000</td>\n",
       "      <td>23.000000</td>\n",
       "      <td>0.000000</td>\n",
       "      <td>0.010000</td>\n",
       "      <td>0.000000</td>\n",
       "      <td>2.320000</td>\n",
       "      <td>2.000000</td>\n",
       "      <td>1.00000</td>\n",
       "      <td>0.140000</td>\n",
       "      <td>1.000000</td>\n",
       "    </tr>\n",
       "    <tr>\n",
       "      <th>25%</th>\n",
       "      <td>6.000000</td>\n",
       "      <td>0.000000</td>\n",
       "      <td>57.000000</td>\n",
       "      <td>0.000000</td>\n",
       "      <td>0.150000</td>\n",
       "      <td>7.000000</td>\n",
       "      <td>4.230000</td>\n",
       "      <td>11.000000</td>\n",
       "      <td>1.00000</td>\n",
       "      <td>0.714000</td>\n",
       "      <td>2.000000</td>\n",
       "    </tr>\n",
       "    <tr>\n",
       "      <th>50%</th>\n",
       "      <td>22.000000</td>\n",
       "      <td>0.000000</td>\n",
       "      <td>62.000000</td>\n",
       "      <td>0.000000</td>\n",
       "      <td>0.217000</td>\n",
       "      <td>11.000000</td>\n",
       "      <td>4.650000</td>\n",
       "      <td>14.000000</td>\n",
       "      <td>1.21600</td>\n",
       "      <td>0.786000</td>\n",
       "      <td>2.000000</td>\n",
       "    </tr>\n",
       "    <tr>\n",
       "      <th>75%</th>\n",
       "      <td>33.000000</td>\n",
       "      <td>1.000000</td>\n",
       "      <td>68.000000</td>\n",
       "      <td>0.000000</td>\n",
       "      <td>0.280000</td>\n",
       "      <td>16.100000</td>\n",
       "      <td>5.300000</td>\n",
       "      <td>16.500000</td>\n",
       "      <td>1.50750</td>\n",
       "      <td>0.857000</td>\n",
       "      <td>2.000000</td>\n",
       "    </tr>\n",
       "    <tr>\n",
       "      <th>max</th>\n",
       "      <td>57.000000</td>\n",
       "      <td>1.000000</td>\n",
       "      <td>86.000000</td>\n",
       "      <td>1.000000</td>\n",
       "      <td>0.840000</td>\n",
       "      <td>40.000000</td>\n",
       "      <td>6.780000</td>\n",
       "      <td>39.000000</td>\n",
       "      <td>3.00000</td>\n",
       "      <td>2.000000</td>\n",
       "      <td>3.000000</td>\n",
       "    </tr>\n",
       "  </tbody>\n",
       "</table>\n",
       "</div>"
      ],
      "text/plain": [
       "       survival_time_hr       alive         age  pericardialeffusion  \\\n",
       "count        133.000000  133.000000  133.000000           133.000000   \n",
       "mean          21.795338    0.383459   62.413534             0.187970   \n",
       "std           15.885313    0.488067    9.335601             0.392165   \n",
       "min            0.030000    0.000000   23.000000             0.000000   \n",
       "25%            6.000000    0.000000   57.000000             0.000000   \n",
       "50%           22.000000    0.000000   62.000000             0.000000   \n",
       "75%           33.000000    1.000000   68.000000             0.000000   \n",
       "max           57.000000    1.000000   86.000000             1.000000   \n",
       "\n",
       "       fractionalshortening        epss        lvdd  wallmotion-score  \\\n",
       "count            133.000000  117.000000  121.000000        128.000000   \n",
       "mean               0.228534   12.164769    4.763157         14.438125   \n",
       "std                0.135864    7.370159    0.810013          5.018566   \n",
       "min                0.010000    0.000000    2.320000          2.000000   \n",
       "25%                0.150000    7.000000    4.230000         11.000000   \n",
       "50%                0.217000   11.000000    4.650000         14.000000   \n",
       "75%                0.280000   16.100000    5.300000         16.500000   \n",
       "max                0.840000   40.000000    6.780000         39.000000   \n",
       "\n",
       "       wallmotion-index  multi_sensor       group  \n",
       "count         130.00000    129.000000  133.000000  \n",
       "mean            1.37800      0.786202    1.984962  \n",
       "std             0.45185      0.225661    0.590133  \n",
       "min             1.00000      0.140000    1.000000  \n",
       "25%             1.00000      0.714000    2.000000  \n",
       "50%             1.21600      0.786000    2.000000  \n",
       "75%             1.50750      0.857000    2.000000  \n",
       "max             3.00000      2.000000    3.000000  "
      ]
     },
     "execution_count": 6,
     "metadata": {},
     "output_type": "execute_result"
    }
   ],
   "source": [
    "ecg.describe()"
   ]
  },
  {
   "cell_type": "code",
   "execution_count": 11,
   "id": "c456ea75",
   "metadata": {},
   "outputs": [
    {
     "data": {
      "text/plain": [
       "count    111.000000\n",
       "mean      22.802072\n",
       "std       15.836242\n",
       "min        0.030000\n",
       "25%       10.000000\n",
       "50%       24.000000\n",
       "75%       33.500000\n",
       "max       57.000000\n",
       "Name: survival_time_hr, dtype: float64"
      ]
     },
     "execution_count": 11,
     "metadata": {},
     "output_type": "execute_result"
    }
   ],
   "source": [
    "ecg['survival_time_hr'].describe()"
   ]
  },
  {
   "cell_type": "code",
   "execution_count": 7,
   "id": "30b5837c",
   "metadata": {},
   "outputs": [
    {
     "data": {
      "text/plain": [
       "survival_time_hr         0\n",
       "alive                    0\n",
       "age                      0\n",
       "pericardialeffusion      0\n",
       "fractionalshortening     0\n",
       "epss                    16\n",
       "lvdd                    12\n",
       "wallmotion-score         5\n",
       "wallmotion-index         3\n",
       "multi_sensor             4\n",
       "name                     2\n",
       "group                    0\n",
       "dtype: int64"
      ]
     },
     "execution_count": 7,
     "metadata": {},
     "output_type": "execute_result"
    }
   ],
   "source": [
    "ecg.isna().sum()"
   ]
  },
  {
   "cell_type": "code",
   "execution_count": 9,
   "id": "46af6c24",
   "metadata": {},
   "outputs": [],
   "source": [
    "##Remvoving na values#\n",
    "ecg.dropna(axis= 0, inplace=True)"
   ]
  },
  {
   "cell_type": "code",
   "execution_count": 10,
   "id": "d2468352",
   "metadata": {},
   "outputs": [
    {
     "data": {
      "text/plain": [
       "survival_time_hr        0\n",
       "alive                   0\n",
       "age                     0\n",
       "pericardialeffusion     0\n",
       "fractionalshortening    0\n",
       "epss                    0\n",
       "lvdd                    0\n",
       "wallmotion-score        0\n",
       "wallmotion-index        0\n",
       "multi_sensor            0\n",
       "name                    0\n",
       "group                   0\n",
       "dtype: int64"
      ]
     },
     "execution_count": 10,
     "metadata": {},
     "output_type": "execute_result"
    }
   ],
   "source": [
    "ecg.isna().sum()"
   ]
  },
  {
   "cell_type": "code",
   "execution_count": 12,
   "id": "ceb57c98",
   "metadata": {},
   "outputs": [],
   "source": [
    "##survival_time_hr refer to time#\n",
    "T= ecg.survival_time_hr"
   ]
  },
  {
   "cell_type": "code",
   "execution_count": 14,
   "id": "0351c427",
   "metadata": {},
   "outputs": [],
   "source": [
    "##removing name column#\n",
    "ecg.drop('name' , axis=1,inplace=True)"
   ]
  },
  {
   "cell_type": "code",
   "execution_count": 15,
   "id": "4526f22a",
   "metadata": {},
   "outputs": [
    {
     "data": {
      "text/html": [
       "<div>\n",
       "<style scoped>\n",
       "    .dataframe tbody tr th:only-of-type {\n",
       "        vertical-align: middle;\n",
       "    }\n",
       "\n",
       "    .dataframe tbody tr th {\n",
       "        vertical-align: top;\n",
       "    }\n",
       "\n",
       "    .dataframe thead th {\n",
       "        text-align: right;\n",
       "    }\n",
       "</style>\n",
       "<table border=\"1\" class=\"dataframe\">\n",
       "  <thead>\n",
       "    <tr style=\"text-align: right;\">\n",
       "      <th></th>\n",
       "      <th>survival_time_hr</th>\n",
       "      <th>alive</th>\n",
       "      <th>age</th>\n",
       "      <th>pericardialeffusion</th>\n",
       "      <th>fractionalshortening</th>\n",
       "      <th>epss</th>\n",
       "      <th>lvdd</th>\n",
       "      <th>wallmotion-score</th>\n",
       "      <th>wallmotion-index</th>\n",
       "      <th>multi_sensor</th>\n",
       "      <th>group</th>\n",
       "    </tr>\n",
       "  </thead>\n",
       "  <tbody>\n",
       "    <tr>\n",
       "      <th>0</th>\n",
       "      <td>11.0</td>\n",
       "      <td>0</td>\n",
       "      <td>71</td>\n",
       "      <td>0</td>\n",
       "      <td>0.260</td>\n",
       "      <td>9.000</td>\n",
       "      <td>4.600</td>\n",
       "      <td>14.0</td>\n",
       "      <td>1.00</td>\n",
       "      <td>1.000</td>\n",
       "      <td>1</td>\n",
       "    </tr>\n",
       "    <tr>\n",
       "      <th>1</th>\n",
       "      <td>19.0</td>\n",
       "      <td>0</td>\n",
       "      <td>72</td>\n",
       "      <td>0</td>\n",
       "      <td>0.380</td>\n",
       "      <td>6.000</td>\n",
       "      <td>4.100</td>\n",
       "      <td>14.0</td>\n",
       "      <td>1.70</td>\n",
       "      <td>0.588</td>\n",
       "      <td>1</td>\n",
       "    </tr>\n",
       "    <tr>\n",
       "      <th>2</th>\n",
       "      <td>16.0</td>\n",
       "      <td>0</td>\n",
       "      <td>55</td>\n",
       "      <td>0</td>\n",
       "      <td>0.260</td>\n",
       "      <td>4.000</td>\n",
       "      <td>3.420</td>\n",
       "      <td>14.0</td>\n",
       "      <td>1.00</td>\n",
       "      <td>1.000</td>\n",
       "      <td>1</td>\n",
       "    </tr>\n",
       "    <tr>\n",
       "      <th>3</th>\n",
       "      <td>57.0</td>\n",
       "      <td>0</td>\n",
       "      <td>60</td>\n",
       "      <td>0</td>\n",
       "      <td>0.253</td>\n",
       "      <td>12.062</td>\n",
       "      <td>4.603</td>\n",
       "      <td>16.0</td>\n",
       "      <td>1.45</td>\n",
       "      <td>0.788</td>\n",
       "      <td>1</td>\n",
       "    </tr>\n",
       "    <tr>\n",
       "      <th>4</th>\n",
       "      <td>19.0</td>\n",
       "      <td>1</td>\n",
       "      <td>57</td>\n",
       "      <td>0</td>\n",
       "      <td>0.160</td>\n",
       "      <td>22.000</td>\n",
       "      <td>5.750</td>\n",
       "      <td>18.0</td>\n",
       "      <td>2.25</td>\n",
       "      <td>0.571</td>\n",
       "      <td>1</td>\n",
       "    </tr>\n",
       "  </tbody>\n",
       "</table>\n",
       "</div>"
      ],
      "text/plain": [
       "   survival_time_hr  alive  age  pericardialeffusion  fractionalshortening  \\\n",
       "0              11.0      0   71                    0                 0.260   \n",
       "1              19.0      0   72                    0                 0.380   \n",
       "2              16.0      0   55                    0                 0.260   \n",
       "3              57.0      0   60                    0                 0.253   \n",
       "4              19.0      1   57                    0                 0.160   \n",
       "\n",
       "     epss   lvdd  wallmotion-score  wallmotion-index  multi_sensor  group  \n",
       "0   9.000  4.600              14.0              1.00         1.000      1  \n",
       "1   6.000  4.100              14.0              1.70         0.588      1  \n",
       "2   4.000  3.420              14.0              1.00         1.000      1  \n",
       "3  12.062  4.603              16.0              1.45         0.788      1  \n",
       "4  22.000  5.750              18.0              2.25         0.571      1  "
      ]
     },
     "execution_count": 15,
     "metadata": {},
     "output_type": "execute_result"
    }
   ],
   "source": [
    "ecg.head()#recheking#"
   ]
  },
  {
   "cell_type": "code",
   "execution_count": 16,
   "id": "adcaba02",
   "metadata": {},
   "outputs": [],
   "source": [
    "## KaplanMeierFitter model#\n",
    "from lifelines import KaplanMeierFitter"
   ]
  },
  {
   "cell_type": "code",
   "execution_count": 17,
   "id": "06d38dbc",
   "metadata": {},
   "outputs": [],
   "source": [
    "#Building model#\n",
    "kmf = KaplanMeierFitter()"
   ]
  },
  {
   "cell_type": "code",
   "execution_count": 20,
   "id": "98a9410f",
   "metadata": {},
   "outputs": [
    {
     "data": {
      "text/plain": [
       "<lifelines.KaplanMeierFitter:\"KM_estimate\", fitted with 111 total observations, 71 right-censored observations>"
      ]
     },
     "execution_count": 20,
     "metadata": {},
     "output_type": "execute_result"
    }
   ],
   "source": [
    "##fitting KaplanMeierFitter model on Time and death of event#\n",
    "kmf.fit(T,event_observed=ecg.alive)"
   ]
  },
  {
   "cell_type": "code",
   "execution_count": 21,
   "id": "b8b9883f",
   "metadata": {},
   "outputs": [
    {
     "data": {
      "text/plain": [
       "<AxesSubplot:xlabel='timeline'>"
      ]
     },
     "execution_count": 21,
     "metadata": {},
     "output_type": "execute_result"
    },
    {
     "data": {
      "image/png": "[encoded data removed]",
      "text/plain": [
       "<Figure size 432x288 with 1 Axes>"
      ]
     },
     "metadata": {
      "needs_background": "light"
     },
     "output_type": "display_data"
    }
   ],
   "source": [
    "#Plotting using Time Plot#\n",
    "kmf.plot()"
   ]
  },
  {
   "cell_type": "code",
   "execution_count": 22,
   "id": "3fbc28c3",
   "metadata": {},
   "outputs": [
    {
     "data": {
      "text/plain": [
       "2    65\n",
       "1    24\n",
       "3    22\n",
       "Name: group, dtype: int64"
      ]
     },
     "execution_count": 22,
     "metadata": {},
     "output_type": "execute_result"
    }
   ],
   "source": [
    "ecg.group.value_counts()"
   ]
  },
  {
   "cell_type": "code",
   "execution_count": 26,
   "id": "c0d653b1",
   "metadata": {},
   "outputs": [
    {
     "data": {
      "text/plain": [
       "<AxesSubplot:xlabel='timeline'>"
      ]
     },
     "execution_count": 26,
     "metadata": {},
     "output_type": "execute_result"
    },
    {
     "data": {
      "image/png": "[encoded data removed]",
      "text/plain": [
       "<Figure size 432x288 with 1 Axes>"
      ]
     },
     "metadata": {
      "needs_background": "light"
     },
     "output_type": "display_data"
    }
   ],
   "source": [
    "# Applying KaplanMeierFitter model on Time and Events for the group \"1\"\n",
    "kmf.fit(T[ecg.group==1],ecg.alive[ecg.group==1], label='Group1')\n",
    "kmf.plot()"
   ]
  },
  {
   "cell_type": "code",
   "execution_count": 27,
   "id": "45827cbd",
   "metadata": {},
   "outputs": [
    {
     "data": {
      "text/plain": [
       "<AxesSubplot:xlabel='timeline'>"
      ]
     },
     "execution_count": 27,
     "metadata": {},
     "output_type": "execute_result"
    },
    {
     "data": {
      "image/png": "[encoded data removed]",
      "text/plain": [
       "<Figure size 432x288 with 1 Axes>"
      ]
     },
     "metadata": {
      "needs_background": "light"
     },
     "output_type": "display_data"
    }
   ],
   "source": [
    "kmf.fit(T[ecg.group==2],ecg.alive[ecg.group==2], label='Group2')\n",
    "kmf.plot()"
   ]
  },
  {
   "cell_type": "code",
   "execution_count": 28,
   "id": "d8006f26",
   "metadata": {},
   "outputs": [
    {
     "data": {
      "text/plain": [
       "<AxesSubplot:xlabel='timeline'>"
      ]
     },
     "execution_count": 28,
     "metadata": {},
     "output_type": "execute_result"
    },
    {
     "data": {
      "image/png": "[encoded data removed]",
      "text/plain": [
       "<Figure size 432x288 with 1 Axes>"
      ]
     },
     "metadata": {
      "needs_background": "light"
     },
     "output_type": "display_data"
    }
   ],
   "source": [
    "kmf.fit(T[ecg.group==3],ecg.alive[ecg.group==3], label='Group3')\n",
    "kmf.plot()"
   ]
  },
  {
   "cell_type": "code",
   "execution_count": null,
   "id": "2f28b269",
   "metadata": {},
   "outputs": [],
   "source": []
  }
 ],
 "metadata": {
  "kernelspec": {
   "display_name": "Python 3 (ipykernel)",
   "language": "python",
   "name": "python3"
  },
  "language_info": {
   "codemirror_mode": {
    "name": "ipython",
    "version": 3
   },
   "file_extension": ".py",
   "mimetype": "text/x-python",
   "name": "python",
   "nbconvert_exporter": "python",
   "pygments_lexer": "ipython3",
   "version": "3.10.4"
  }
 },
 "nbformat": 4,
 "nbformat_minor": 5
}
